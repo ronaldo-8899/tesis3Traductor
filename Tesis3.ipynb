{
 "cells": [
  {
   "cell_type": "markdown",
   "id": "2d8d69a0",
   "metadata": {},
   "source": [
    "## Traduccion automatica usando transformers"
   ]
  },
  {
   "cell_type": "markdown",
   "id": "1b3b2515",
   "metadata": {},
   "source": [
    "Ajuste de parametros"
   ]
  },
  {
   "cell_type": "code",
   "execution_count": 1,
   "id": "22eb1549",
   "metadata": {},
   "outputs": [],
   "source": [
    "def obtener_secuencia_maxima(archivo):\n",
    "    #cadena_max_palabras = \"\"\n",
    "    cantidad_max_palabras = 0\n",
    "\n",
    "    with open(archivo, \"r\",encoding=\"utf-8\") as archivo_txt:\n",
    "      # Lee el archivo línea por línea\n",
    "      for linea in archivo_txt:\n",
    "        # Elimina los espacios en blanco al principio y al final de la línea\n",
    "        linea = linea.strip()\n",
    "        \n",
    "        # Divide la línea en palabras usando los espacios como delimitadores\n",
    "        palabras = linea.split()\n",
    "        \n",
    "        # Comprueba si la cantidad de palabras en la línea actual es mayor que la máxima cantidad actual\n",
    "        if len(palabras) > cantidad_max_palabras:\n",
    "            #cadena_max_palabras = linea\n",
    "            cantidad_max_palabras = len(palabras)\n",
    "    \n",
    "    return cantidad_max_palabras    "
   ]
  },
  {
   "cell_type": "code",
   "execution_count": 2,
   "id": "c7951909",
   "metadata": {},
   "outputs": [],
   "source": [
    "def obtener_vocabulario(archivo):\n",
    "    \n",
    "    with open(archivo, 'r',encoding=\"utf-8\") as f:\n",
    "        # Leer el contenido del archivo\n",
    "        contenido = f.read()\n",
    "\n",
    "    # Dividir el contenido en palabras individuales\n",
    "    palabras = contenido.split()\n",
    "\n",
    "    # Crear un conjunto para almacenar las palabras únicas\n",
    "    palabras_unicas = set(palabras)\n",
    "\n",
    "    # Contar las palabras únicas\n",
    "    contador = len(palabras_unicas)\n",
    "\n",
    "    return contador"
   ]
  },
  {
   "cell_type": "code",
   "execution_count": 3,
   "id": "5b8d5d82",
   "metadata": {},
   "outputs": [],
   "source": [
    "def definir_secuencia(archivo1,archivo2,archivo3,limite_palabras):\n",
    "    lineas_validas = []\n",
    "\n",
    "    with open(archivo1, \"r\",encoding=\"utf-8\") as archivo1_txt, open(archivo2, \"r\",encoding=\"utf-8\") as archivo2_txt, open(archivo3, \"r\",encoding=\"utf-8\") as archivo3_txt:\n",
    "      # Lee ambos archivos línea por línea simultáneamente\n",
    "      for linea1, linea2, linea3 in zip(archivo1_txt, archivo2_txt, archivo3_txt):\n",
    "        # Elimina los espacios en blanco al principio y al final de las líneas\n",
    "        linea1 = linea1.strip()\n",
    "        linea2 = linea2.strip()\n",
    "        linea3 = linea3.strip()\n",
    "        \n",
    "        # Divide las líneas en palabras usando los espacios como delimitadores\n",
    "        palabras1 = linea1.split()\n",
    "        palabras2 = linea2.split()\n",
    "        palabras3 = linea3.split()\n",
    "        \n",
    "        # Comprueba si ambas líneas cumplen con el límite de palabras\n",
    "        if len(palabras1) <= limite_palabras and len(palabras2) <= limite_palabras and len(palabras3) <= limite_palabras:\n",
    "            lineas_validas.append((linea1, linea2, linea3))\n",
    "\n",
    "    # Sobreescribe ambos archivos con las líneas válidas\n",
    "    with open(archivo1, \"w\",encoding=\"utf-8\") as archivo1_txt, open(archivo2, \"w\",encoding=\"utf-8\") as archivo2_txt, open(archivo3, \"w\",encoding=\"utf-8\") as archivo3_txt:\n",
    "        for linea1, linea2, linea3 in lineas_validas:\n",
    "            archivo1_txt.write(linea1 + \"\\n\")\n",
    "            archivo2_txt.write(linea2 + \"\\n\")\n",
    "            archivo3_txt.write(linea3 + \"\\n\")"
   ]
  },
  {
   "cell_type": "markdown",
   "id": "b3a40fb3",
   "metadata": {},
   "source": [
    "## Recoleccion de datos\n",
    "**Datos de entrenamiento**"
   ]
  },
  {
   "cell_type": "code",
   "execution_count": 73,
   "id": "4a9f2c4a",
   "metadata": {},
   "outputs": [
    {
     "data": {
      "text/plain": [
       "'    \\n\\nfor i in range(0,len(lines1)):\\n    español  = lines1[i]\\n    aimara  = lines3[i]\\n    if español != aimara:\\n       español = \"[start] \" + español + \" [end]\"\\n       train_pairs.append((aimara, español))\\n'"
      ]
     },
     "execution_count": 73,
     "metadata": {},
     "output_type": "execute_result"
    }
   ],
   "source": [
    "train_pairs = []\n",
    "\n",
    "text_file1 = \"Data/train1Es.txt\" \n",
    "text_file2 = \"Data/train1Qu.txt\"\n",
    "text_file3 = \"Data/train1Ai.txt\"\n",
    "definir_secuencia(text_file1,text_file2, text_file3,20)\n",
    "vocab_size_esp = obtener_vocabulario(text_file1)\n",
    "vocab_size_que = obtener_vocabulario(text_file2) \n",
    "vocab_size_ai = obtener_vocabulario(text_file3) \n",
    "sequence_length = 20\n",
    "\n",
    "with open(text_file1,encoding=\"utf-8\") as f:\n",
    "    lines1 = f.read().split(\"\\n\")[:-1]\n",
    "with open(text_file2,encoding=\"utf-8\") as f:\n",
    "    lines2 = f.read().split(\"\\n\")[:-1]\n",
    "with open(text_file3,encoding=\"utf-8\") as f:\n",
    "    lines3 = f.read().split(\"\\n\")[:-1]\n",
    "\n",
    "for i in range(0,len(lines2)):\n",
    "    español  = lines1[i]\n",
    "    quechua  = lines2[i]\n",
    "    if español != quechua:\n",
    "       quechua = \"[start] \" + quechua + \" [end]\"\n",
    "       train_pairs.append((español, quechua))\n",
    "\"\"\"    \n",
    "\n",
    "for i in range(0,len(lines1)):\n",
    "    español  = lines1[i]\n",
    "    aimara  = lines3[i]\n",
    "    if español != aimara:\n",
    "       español = \"[start] \" + español + \" [end]\"\n",
    "       train_pairs.append((aimara, español))\n",
    "\"\"\"       "
   ]
  },
  {
   "cell_type": "code",
   "execution_count": 74,
   "id": "9372bc4c",
   "metadata": {},
   "outputs": [
    {
     "data": {
      "text/plain": [
       "20"
      ]
     },
     "execution_count": 74,
     "metadata": {},
     "output_type": "execute_result"
    }
   ],
   "source": [
    "obtener_secuencia_maxima(text_file3)"
   ]
  },
  {
   "cell_type": "markdown",
   "id": "238eca31",
   "metadata": {},
   "source": [
    "**Datos de validacion**"
   ]
  },
  {
   "cell_type": "code",
   "execution_count": 2,
   "id": "beb15ba7",
   "metadata": {},
   "outputs": [],
   "source": [
    "text_file1 = \"Data/validationEs.txt\" \n",
    "text_file2 = \"Data/validationQu.txt\"\n",
    "\n",
    "with open(text_file1,encoding=\"utf-8\") as f:\n",
    "    lines1 = f.read().split(\"\\n\")[:-1]\n",
    "with open(text_file2,encoding=\"utf-8\") as f:\n",
    "    lines2 = f.read().split(\"\\n\")[:-1]\n",
    "##text_pairs = [] \n",
    "val_pairs = []\n",
    "\n",
    "for i in range(0,len(lines2)):\n",
    "    español  = lines1[i]\n",
    "    quechua  = lines2[i]\n",
    "    if español != quechua:\n",
    "       quechua = \"[start] \" + quechua + \" [end]\"\n",
    "       ##text_pairs.append((español, quechua))\n",
    "       val_pairs.append((español, quechua))"
   ]
  },
  {
   "cell_type": "markdown",
   "id": "92908133",
   "metadata": {},
   "source": [
    "**Datos de prueba**"
   ]
  },
  {
   "cell_type": "code",
   "execution_count": 3,
   "id": "b6dcaef4",
   "metadata": {},
   "outputs": [],
   "source": [
    "text_file1 = \"Data/testEs.txt\" \n",
    "text_file2 = \"Data/testQu.txt\"\n",
    "\n",
    "with open(text_file1,encoding=\"utf-8\") as f:\n",
    "    lines1 = f.read().split(\"\\n\")[:-1]\n",
    "with open(text_file2,encoding=\"utf-8\") as f:\n",
    "    lines2 = f.read().split(\"\\n\")[:-1]\n",
    "##text_pairs = [] \n",
    "test_pairs = []\n",
    "\n",
    "for i in range(0,len(lines2)):\n",
    "    español  = lines1[i]\n",
    "    quechua  = lines2[i]\n",
    "    if español != quechua:\n",
    "       quechua = \"[start] \" + quechua + \" [end]\"\n",
    "       ##text_pairs.append((español, quechua))\n",
    "       test_pairs.append((español, quechua))"
   ]
  },
  {
   "cell_type": "markdown",
   "id": "be8c76fc",
   "metadata": {},
   "source": [
    "Ejemplo de los datos"
   ]
  },
  {
   "cell_type": "code",
   "execution_count": 75,
   "id": "dc6e7c82",
   "metadata": {},
   "outputs": [
    {
     "name": "stdout",
     "output_type": "stream",
     "text": [
      "('Nos consolará y dará fuerzas cuando nos enfrentemos a pruebas severas o tengamos alguna necesidad especial.', '[start] Chayqa sonqochawasunmi kallpata qowasun sinchi pruebakunapi tarikuspa otaq necesidad especialkunapi tarikuspanchis. [end]')\n"
     ]
    }
   ],
   "source": [
    "import random\n",
    "print(random.choice(train_pairs))"
   ]
  },
  {
   "cell_type": "code",
   "execution_count": null,
   "id": "c357d9a3",
   "metadata": {},
   "outputs": [],
   "source": []
  },
  {
   "cell_type": "markdown",
   "id": "7152cefc",
   "metadata": {},
   "source": [
    "**Vectorizando los pares de texto en español y quechua**"
   ]
  },
  {
   "cell_type": "code",
   "execution_count": 76,
   "id": "7de441fa",
   "metadata": {},
   "outputs": [],
   "source": [
    "import tensorflow as tf\n",
    "from tensorflow.keras import layers\n",
    "import string\n",
    "import re\n",
    "\n",
    "strip_chars = string.punctuation + \"¿\"\n",
    "strip_chars = strip_chars.replace(\"[\", \"\")\n",
    "strip_chars = strip_chars.replace(\"]\", \"\")\n",
    "\n",
    "##Convierte las letras mayusculas en minusculas\n",
    "def custom_standardization(input_string):\n",
    "    lowercase = tf.strings.lower(input_string) \n",
    "    return tf.strings.regex_replace(\n",
    "        lowercase, f\"[{re.escape(strip_chars)}]\", \"\")\n",
    "\n",
    "##vocab_size = 32935   #Tamaño máximo del vocabulario para esta capa.\n",
    "##sequence_length = 20  #dimension de la salida\n",
    "\n",
    "source_vectorization = layers.TextVectorization(\n",
    "    max_tokens=vocab_size_esp,\n",
    "    output_mode=\"int\",\n",
    "    output_sequence_length=sequence_length,\n",
    ")\n",
    "\n",
    "target_vectorization = layers.TextVectorization(\n",
    "    max_tokens=vocab_size_que,\n",
    "    output_mode=\"int\",\n",
    "    output_sequence_length=sequence_length + 1,\n",
    " #  standardize=\"lower_and_strip_punctuation\",\n",
    "    standardize=custom_standardization,\n",
    ")\n",
    "\"\"\"\n",
    "target_vectorization = layers.TextVectorization(\n",
    "    max_tokens=vocab_size_ai,\n",
    "    output_mode=\"int\",\n",
    "    output_sequence_length=sequence_length + 1,\n",
    " #  standardize=\"lower_and_strip_punctuation\",\n",
    "    standardize=custom_standardization,\n",
    ")\n",
    "\"\"\"\n",
    "train_spanish_texts = [pair[0] for pair in train_pairs]\n",
    "train_quechua_texts = [pair[1] for pair in train_pairs]\n",
    "source_vectorization.adapt(train_spanish_texts)\n",
    "target_vectorization.adapt(train_quechua_texts)"
   ]
  },
  {
   "cell_type": "markdown",
   "id": "7e90432c",
   "metadata": {},
   "source": [
    "**Preparando conjuntos de datos para la tarea de traducción**"
   ]
  },
  {
   "cell_type": "code",
   "execution_count": 77,
   "id": "b2ac4393",
   "metadata": {},
   "outputs": [
    {
     "name": "stdout",
     "output_type": "stream",
     "text": [
      "inputs['español'].shape: (100, 20)\n",
      "inputs['quechua'].shape: (100, 20)\n",
      "targets.shape: (100, 20)\n"
     ]
    }
   ],
   "source": [
    "batch_size = 100\n",
    "\n",
    "def format_dataset(spa, que):\n",
    "    spa = source_vectorization(spa)\n",
    "    que = target_vectorization(que)\n",
    "    return ({\n",
    "        \"español\": spa,\n",
    "        \"quechua\": que[:, :-1],\n",
    "    }, que[:, 1:])\n",
    "\n",
    "def make_dataset(pairs):\n",
    "    spa_texts, que_texts = zip(*pairs)\n",
    "    spa_texts = list(spa_texts)\n",
    "    que_texts = list(que_texts)\n",
    "    #Representa un conjunto potencialmente grande de elementos.\n",
    "    dataset = tf.data.Dataset.from_tensor_slices((spa_texts, que_texts))\n",
    "    dataset = dataset.batch(batch_size)\n",
    "    dataset = dataset.map(format_dataset, num_parallel_calls=4)\n",
    "    return dataset.shuffle(2048).prefetch(16).cache()\n",
    "\n",
    "train_ds = make_dataset(train_pairs)\n",
    "#val_ds = make_dataset(val_pairs)\n",
    "#test_ds = make_dataset(test_pairs)\n",
    "\n",
    "for inputs, targets in train_ds.take(1):\n",
    "    print(f\"inputs['español'].shape: {inputs['español'].shape}\")\n",
    "    print(f\"inputs['quechua'].shape: {inputs['quechua'].shape}\")\n",
    "    print(f\"targets.shape: {targets.shape}\")"
   ]
  },
  {
   "cell_type": "markdown",
   "id": "52165568",
   "metadata": {},
   "source": [
    "### Modelo de traduccion usando redes Transformers"
   ]
  },
  {
   "cell_type": "markdown",
   "id": "06bdbeae",
   "metadata": {},
   "source": [
    "**Codificador posicional**"
   ]
  },
  {
   "cell_type": "code",
   "execution_count": 64,
   "id": "56414409",
   "metadata": {},
   "outputs": [],
   "source": [
    "class PositionalEmbedding(layers.Layer):\n",
    "    def __init__(self, sequence_length, input_dim, output_dim, **kwargs):\n",
    "        super().__init__(**kwargs)\n",
    "        self.token_embeddings = layers.Embedding(input_dim=input_dim, output_dim=output_dim)\n",
    "        self.position_embeddings = layers.Embedding(input_dim=sequence_length, output_dim=output_dim)\n",
    "        self.sequence_length = sequence_length\n",
    "        self.input_dim = input_dim\n",
    "        self.output_dim = output_dim\n",
    "\n",
    "    def call(self, inputs):\n",
    "        length = tf.shape(inputs)[-1]\n",
    "        positions = tf.range(start=0, limit=length, delta=1)\n",
    "        embedded_tokens = self.token_embeddings(inputs)\n",
    "        embedded_positions = self.position_embeddings(positions)\n",
    "        return embedded_tokens + embedded_positions\n",
    "\n",
    "    def compute_mask(self, inputs, mask=None):\n",
    "        return tf.math.not_equal(inputs, 0)\n",
    "\n",
    "    def get_config(self):\n",
    "        config = super(PositionalEmbedding, self).get_config()\n",
    "        config.update({\n",
    "            \"output_dim\": self.output_dim,\n",
    "            \"sequence_length\": self.sequence_length,\n",
    "            \"input_dim\": self.input_dim,\n",
    "        })\n",
    "        return config"
   ]
  },
  {
   "cell_type": "markdown",
   "id": "ed420141",
   "metadata": {},
   "source": [
    "**Codificador**"
   ]
  },
  {
   "cell_type": "code",
   "execution_count": 65,
   "id": "710ba8d7",
   "metadata": {},
   "outputs": [],
   "source": [
    "class TransformerEncoder(layers.Layer):\n",
    "    def __init__(self, embed_dim, dense_dim, num_heads, **kwargs):\n",
    "        super().__init__(**kwargs)\n",
    "        self.embed_dim = embed_dim\n",
    "        self.dense_dim = dense_dim\n",
    "        self.num_heads = num_heads\n",
    "        self.attention = layers.MultiHeadAttention(num_heads=num_heads, key_dim=embed_dim)\n",
    "        self.dense_proj = keras.Sequential([layers.Dense(dense_dim, activation=\"relu\"),layers.Dense(embed_dim),]\n",
    "        )\n",
    "        self.layernorm_1 = layers.LayerNormalization()\n",
    "        self.layernorm_2 = layers.LayerNormalization()\n",
    "\n",
    "    def call(self, inputs, mask=None):\n",
    "        if mask is not None:\n",
    "            mask = mask[:, tf.newaxis, :]\n",
    "        attention_output = self.attention(inputs, inputs, attention_mask=mask)\n",
    "        proj_input = self.layernorm_1(inputs + attention_output)\n",
    "        proj_output = self.dense_proj(proj_input)\n",
    "        return self.layernorm_2(proj_input + proj_output)\n",
    "\n",
    "    def get_config(self):\n",
    "        config = super().get_config()\n",
    "        config.update({\n",
    "            \"embed_dim\": self.embed_dim,\n",
    "            \"num_heads\": self.num_heads,\n",
    "            \"dense_dim\": self.dense_dim,\n",
    "        })\n",
    "        return config"
   ]
  },
  {
   "cell_type": "markdown",
   "id": "375fe130",
   "metadata": {},
   "source": [
    "**Decodificador**"
   ]
  },
  {
   "cell_type": "code",
   "execution_count": 66,
   "id": "cd431a27",
   "metadata": {},
   "outputs": [],
   "source": [
    "class TransformerDecoder(layers.Layer):\n",
    "    def __init__(self, embed_dim, dense_dim, num_heads, **kwargs):\n",
    "        super().__init__(**kwargs)\n",
    "        self.embed_dim = embed_dim\n",
    "        self.dense_dim = dense_dim\n",
    "        self.num_heads = num_heads\n",
    "        self.attention_1 = layers.MultiHeadAttention(num_heads=num_heads, key_dim=embed_dim)\n",
    "        self.attention_2 = layers.MultiHeadAttention(num_heads=num_heads, key_dim=embed_dim)\n",
    "        self.dense_proj = keras.Sequential([layers.Dense(dense_dim, activation=\"relu\"),layers.Dense(embed_dim),]\n",
    "        )\n",
    "        self.layernorm_1 = layers.LayerNormalization()\n",
    "        self.layernorm_2 = layers.LayerNormalization()\n",
    "        self.layernorm_3 = layers.LayerNormalization()\n",
    "        self.supports_masking = True\n",
    "\n",
    "    def get_config(self):\n",
    "        config = super().get_config()\n",
    "        config.update({\n",
    "            \"embed_dim\": self.embed_dim,\n",
    "            \"num_heads\": self.num_heads,\n",
    "            \"dense_dim\": self.dense_dim,\n",
    "        })\n",
    "        return config\n",
    "\n",
    "    def get_causal_attention_mask(self, inputs):\n",
    "        input_shape = tf.shape(inputs)\n",
    "        batch_size, sequence_length = input_shape[0], input_shape[1]\n",
    "        i = tf.range(sequence_length)[:, tf.newaxis]\n",
    "        j = tf.range(sequence_length)\n",
    "        mask = tf.cast(i >= j, dtype=\"int32\")\n",
    "        mask = tf.reshape(mask, (1, input_shape[1], input_shape[1]))\n",
    "        mult = tf.concat([tf.expand_dims(batch_size, -1),tf.constant([1, 1], dtype=tf.int32)], axis=0)\n",
    "        return tf.tile(mask, mult)\n",
    "\n",
    "    def call(self, inputs, encoder_outputs, mask=None):\n",
    "        causal_mask = self.get_causal_attention_mask(inputs)\n",
    "        if mask is not None:\n",
    "            padding_mask = tf.cast(mask[:, tf.newaxis, :], dtype=\"int32\")\n",
    "            padding_mask = tf.minimum(padding_mask, causal_mask)\n",
    "        attention_output_1 = self.attention_1(query=inputs,value=inputs,key=inputs,attention_mask=causal_mask)\n",
    "        attention_output_1 = self.layernorm_1(inputs + attention_output_1)\n",
    "        attention_output_2 = self.attention_2(query=attention_output_1,value=encoder_outputs,key=encoder_outputs,attention_mask=padding_mask,)\n",
    "        attention_output_2 = self.layernorm_2(attention_output_1 + attention_output_2)\n",
    "        proj_output = self.dense_proj(attention_output_2)\n",
    "        return self.layernorm_3(attention_output_2 + proj_output)"
   ]
  },
  {
   "cell_type": "markdown",
   "id": "d6e2e91c",
   "metadata": {},
   "source": [
    "**Procesamiento del modelo**"
   ]
  },
  {
   "cell_type": "code",
   "execution_count": 67,
   "id": "82f540ff",
   "metadata": {},
   "outputs": [],
   "source": [
    "import keras\n",
    "embed_dim = 256\n",
    "dense_dim = 2048\n",
    "num_heads = 8\n",
    "\n",
    "encoder_inputs = keras.Input(shape=(None,), dtype=\"int64\", name=\"español\")\n",
    "x = PositionalEmbedding(sequence_length, vocab_size_ai, embed_dim)(encoder_inputs)\n",
    "encoder_outputs = TransformerEncoder(embed_dim, dense_dim, num_heads)(x)\n",
    "\n",
    "decoder_inputs = keras.Input(shape=(None,), dtype=\"int64\", name=\"quechua\")\n",
    "x = PositionalEmbedding(sequence_length, vocab_size_esp, embed_dim)(decoder_inputs)\n",
    "x = TransformerDecoder(embed_dim, dense_dim, num_heads)(x, encoder_outputs)\n",
    "x = layers.Dropout(0.5)(x)\n",
    "\n",
    "decoder_outputs = layers.Dense(vocab_size_esp, activation=\"softmax\")(x)\n",
    "transformer = keras.Model([encoder_inputs, decoder_inputs], decoder_outputs)"
   ]
  },
  {
   "cell_type": "markdown",
   "id": "c9b05859",
   "metadata": {},
   "source": [
    "**Datos de entramiento**"
   ]
  },
  {
   "cell_type": "code",
   "execution_count": 68,
   "id": "e6971679",
   "metadata": {},
   "outputs": [
    {
     "name": "stdout",
     "output_type": "stream",
     "text": [
      "Epoch 1/40\n",
      "76/76 [==============================] - 186s 2s/step - loss: 6.4477 - accuracy: 0.1643\n",
      "Epoch 2/40\n",
      "76/76 [==============================] - 195s 3s/step - loss: 5.5022 - accuracy: 0.2214\n",
      "Epoch 3/40\n",
      "76/76 [==============================] - 199s 3s/step - loss: 5.1216 - accuracy: 0.2528\n",
      "Epoch 4/40\n",
      "76/76 [==============================] - 191s 3s/step - loss: 4.8304 - accuracy: 0.2807\n",
      "Epoch 5/40\n",
      "76/76 [==============================] - 207s 3s/step - loss: 4.5523 - accuracy: 0.3049\n",
      "Epoch 6/40\n",
      "76/76 [==============================] - 213s 3s/step - loss: 4.3116 - accuracy: 0.3308\n",
      "Epoch 7/40\n",
      "76/76 [==============================] - 209s 3s/step - loss: 4.0769 - accuracy: 0.3529\n",
      "Epoch 8/40\n",
      "76/76 [==============================] - 201s 3s/step - loss: 3.8545 - accuracy: 0.3790\n",
      "Epoch 9/40\n",
      "76/76 [==============================] - 208s 3s/step - loss: 3.6168 - accuracy: 0.4077\n",
      "Epoch 10/40\n",
      "76/76 [==============================] - 200s 3s/step - loss: 3.4130 - accuracy: 0.4312\n",
      "Epoch 11/40\n",
      "76/76 [==============================] - 197s 3s/step - loss: 3.1796 - accuracy: 0.4598\n",
      "Epoch 12/40\n",
      "76/76 [==============================] - 197s 3s/step - loss: 2.9546 - accuracy: 0.4914\n",
      "Epoch 13/40\n",
      "76/76 [==============================] - 193s 3s/step - loss: 2.7278 - accuracy: 0.5212\n",
      "Epoch 14/40\n",
      "76/76 [==============================] - 193s 3s/step - loss: 2.5211 - accuracy: 0.5488\n",
      "Epoch 15/40\n",
      "76/76 [==============================] - 193s 3s/step - loss: 2.2811 - accuracy: 0.5843\n",
      "Epoch 16/40\n",
      "76/76 [==============================] - 187s 2s/step - loss: 2.0507 - accuracy: 0.6208\n",
      "Epoch 17/40\n",
      "76/76 [==============================] - 186s 2s/step - loss: 1.8721 - accuracy: 0.6466\n",
      "Epoch 18/40\n",
      "76/76 [==============================] - 186s 2s/step - loss: 1.6750 - accuracy: 0.6785\n",
      "Epoch 19/40\n",
      "76/76 [==============================] - 184s 2s/step - loss: 1.4982 - accuracy: 0.7107\n",
      "Epoch 20/40\n",
      "76/76 [==============================] - 188s 2s/step - loss: 1.3097 - accuracy: 0.7431\n",
      "Epoch 21/40\n",
      "76/76 [==============================] - 190s 2s/step - loss: 1.1517 - accuracy: 0.7735\n",
      "Epoch 22/40\n",
      "76/76 [==============================] - 188s 2s/step - loss: 1.0292 - accuracy: 0.7974\n",
      "Epoch 23/40\n",
      "76/76 [==============================] - 193s 3s/step - loss: 0.8990 - accuracy: 0.8262\n",
      "Epoch 24/40\n",
      "76/76 [==============================] - 185s 2s/step - loss: 0.7793 - accuracy: 0.8523\n",
      "Epoch 25/40\n",
      "76/76 [==============================] - 184s 2s/step - loss: 0.6699 - accuracy: 0.8751\n",
      "Epoch 26/40\n",
      "76/76 [==============================] - 182s 2s/step - loss: 0.5840 - accuracy: 0.8945\n",
      "Epoch 27/40\n",
      "76/76 [==============================] - 183s 2s/step - loss: 0.5257 - accuracy: 0.9055\n",
      "Epoch 28/40\n",
      "76/76 [==============================] - 198s 3s/step - loss: 0.4563 - accuracy: 0.9186\n",
      "Epoch 29/40\n",
      "76/76 [==============================] - 191s 3s/step - loss: 0.3870 - accuracy: 0.9320\n",
      "Epoch 30/40\n",
      "76/76 [==============================] - 185s 2s/step - loss: 0.3504 - accuracy: 0.9366\n",
      "Epoch 31/40\n",
      "76/76 [==============================] - 188s 2s/step - loss: 0.3231 - accuracy: 0.9399\n",
      "Epoch 32/40\n",
      "76/76 [==============================] - 186s 2s/step - loss: 0.2723 - accuracy: 0.9479\n",
      "Epoch 33/40\n",
      "76/76 [==============================] - 183s 2s/step - loss: 0.2607 - accuracy: 0.9483\n",
      "Epoch 34/40\n",
      "76/76 [==============================] - 184s 2s/step - loss: 0.2437 - accuracy: 0.9510\n",
      "Epoch 35/40\n",
      "76/76 [==============================] - 183s 2s/step - loss: 0.2186 - accuracy: 0.9552\n",
      "Epoch 36/40\n",
      "76/76 [==============================] - 182s 2s/step - loss: 0.2092 - accuracy: 0.9560\n",
      "Epoch 37/40\n",
      "76/76 [==============================] - 184s 2s/step - loss: 0.1875 - accuracy: 0.9606\n",
      "Epoch 38/40\n",
      "76/76 [==============================] - 187s 2s/step - loss: 0.1633 - accuracy: 0.9658\n",
      "Epoch 39/40\n",
      "76/76 [==============================] - 186s 2s/step - loss: 0.1513 - accuracy: 0.9677\n",
      "Epoch 40/40\n",
      "76/76 [==============================] - 186s 2s/step - loss: 0.1343 - accuracy: 0.9712\n"
     ]
    },
    {
     "data": {
      "text/plain": [
       "<keras.callbacks.History at 0x28e0b7b73a0>"
      ]
     },
     "execution_count": 68,
     "metadata": {},
     "output_type": "execute_result"
    }
   ],
   "source": [
    "transformer.compile(\n",
    "    optimizer=\"rmsprop\",\n",
    "    loss=\"sparse_categorical_crossentropy\",\n",
    "    metrics=[\"accuracy\"])\n",
    "#transformer.fit(train_ds, epochs=30, validation_data=val_ds)\n",
    "transformer.fit(train_ds, epochs=40)"
   ]
  },
  {
   "cell_type": "code",
   "execution_count": 85,
   "id": "dd9e37c1",
   "metadata": {
    "scrolled": true
   },
   "outputs": [
    {
     "name": "stdout",
     "output_type": "stream",
     "text": [
      "-\n",
      "Y por último dice que el pueblo de Dios “escapará, todo el que se halle escrito en el libro ”.\n",
      "[start] hinaspa tukunanpaq nin diospa llaqtanqa ayqenqakun llapa libropi qelqasqa tarisqakuna [end]\n",
      "-\n",
      "b) ¿Cómo lograban mantenerse estos siervos de tiempo completo?\n",
      "[start] b imaynatan wakinqa historiapa puriynintam cambiarunku [end]\n",
      "-\n",
      "Pero al mismo tiempo nos advierte que “el amor al dinero es raíz de toda clase de males ”.\n",
      "[start] ichaqa chay pachallapitaqmi anyawanchis qolqe munakuyqa tukuy imaymana mana allinkunaq saphinmi [end]\n",
      "-\n",
      "RESPUESTA: El Reino de Dios es un gobierno celestial, y su Rey es Jesús.\n",
      "[start] kutichiy diospa reinonqa hanaq pacha gobiernon reynintaq jesus [end]\n",
      "-\n",
      "¿CUÁL ES LA SOLUCIÓN?\n",
      "[start] imataq allinchay [end]\n",
      "-\n",
      "Adán y Eva desobedecieron a Dios, de modo que fueron expulsados del Edén.\n",
      "[start] adanwan evawanqa manan diosta kasukurqankuchu chaymi edén llaqtamanta qarqosqa karqanku [end]\n",
      "-\n",
      "Jesús cumplió de forma sorprendente esta profecía durante su ministerio.\n",
      "[start] jesusqa admirakunapaq hinan hunt’arqan predicashaspa chay profeciata [end]\n",
      "-\n",
      "Lecciones que aprendemos\n",
      "[start] yachasqanchik yachachikuykunata [end]\n",
      "-\n",
      "Y estas diferencias se dan incluso entre quienes viven en la misma zona.\n",
      "[start] hinaspapas chay mana kaqlla kasqankuqa huk cheqasllapi tiyaq runakuna ukhupipas rikukunmi [end]\n",
      "-\n",
      "• ¿Cómo mostraron Asaf, Jeremías y David que Jehová era su herencia?\n",
      "[start] • imaynatan asaf jeremias david ima rikuchirqanku jehová dios herencianku kasqanta [end]\n"
     ]
    }
   ],
   "source": [
    "import numpy as np\n",
    "spa_vocab = target_vectorization.get_vocabulary()\n",
    "spa_index_lookup = dict(zip(range(len(spa_vocab)), spa_vocab))\n",
    "max_decoded_sentence_length = 30\n",
    "\n",
    "def decode_sequence(input_sentence):\n",
    "    tokenized_input_sentence = source_vectorization([input_sentence])\n",
    "    decoded_sentence = \"[start]\"\n",
    "    for i in range(max_decoded_sentence_length):\n",
    "        tokenized_target_sentence = target_vectorization([decoded_sentence])[:, :-1]\n",
    "        predictions = transformer([tokenized_input_sentence, tokenized_target_sentence])\n",
    "        ##predictions = new_model([tokenized_input_sentence, tokenized_target_sentence])\n",
    "        sampled_token_index = np.argmax(predictions[0, i, :])\n",
    "        sampled_token = spa_index_lookup[sampled_token_index]\n",
    "        decoded_sentence += \" \" + sampled_token\n",
    "        if sampled_token == \"[end]\":\n",
    "            break\n",
    "    return decoded_sentence\n",
    "\n",
    "test_spa_texts = [pair[0] for pair in train_pairs]\n",
    "test_que_texts = [pair[1] for pair in train_pairs]\n",
    "traduccion = []\n",
    "original = []\n",
    "for i in range(0,10):\n",
    "    input_sentence = test_spa_texts[i]\n",
    "    print(\"-\")\n",
    "    print(input_sentence)\n",
    "    print(decode_sequence(input_sentence))\n",
    "    original.append(test_que_texts[i])\n",
    "    traduccion.append(decode_sequence(input_sentence))"
   ]
  },
  {
   "cell_type": "markdown",
   "id": "a297aac6",
   "metadata": {},
   "source": [
    "**Guarda el modelo entrenado**\n",
    "\n",
    "Una vez que hallamos terminado con nuestras pruebas podemos guardar todo los parametros de nuestro modelo para poder utilizarlo mas adelante."
   ]
  },
  {
   "cell_type": "code",
   "execution_count": 86,
   "id": "dc456909",
   "metadata": {},
   "outputs": [
    {
     "data": {
      "text/plain": [
       "['[start] Hinaspa tukunanpaq nin Diospa llaqtanqa \"ayqenqakun, llapa libropi qelqasqa tarisqakuna\". [end]',\n",
       " '[start] b)\\xa0¿Imaynatam tukuy tiemponkuwan serviqkunaqa yanapakurqaku? [end]',\n",
       " '[start] Ichaqa chay pachallapitaqmi anyawanchis \"qolqe munakuyqa tukuy imaymana mana allinkunaq saphinmi\". [end]',\n",
       " '[start] KUTICHIY: Diospa Reinonqa hanaq pacha gobiernon, Reynintaq Jesus. [end]',\n",
       " '[start] ¿IMATAQ ALLINCHAY? [end]',\n",
       " '[start] Adanwan Evawanqa manan Diosta kasukurqankuchu, chaymi Edén llaqtamanta qarqosqa karqanku. [end]',\n",
       " '[start] Jesusqa admirakunapaq hinan hunt’arqan predicashaspa chay profeciata. [end]',\n",
       " '[start] Yachasqanchik yachachikuykunata [end]',\n",
       " '[start] Hinaspapas chay mana kaqlla kasqankuqa huk cheqasllapi tiyaq runakuna ukhupipas rikukunmi. [end]',\n",
       " '[start] • ¿Imaynatan Asaf, Jeremias, David ima rikuchirqanku Jehová Dios herencianku kasqanta? [end]']"
      ]
     },
     "execution_count": 86,
     "metadata": {},
     "output_type": "execute_result"
    }
   ],
   "source": [
    "original"
   ]
  },
  {
   "cell_type": "code",
   "execution_count": 70,
   "id": "649958dd",
   "metadata": {},
   "outputs": [],
   "source": [
    "transformer.save('modeloAimaraEspañol.h5')"
   ]
  },
  {
   "cell_type": "markdown",
   "id": "87d867de",
   "metadata": {},
   "source": [
    "**Instalar un modelo de traduccion ya entrenado**\n",
    "\n",
    "para este caso no se debera realizar el procesamiento del modelo con los datos de entrenamiento y pasarse de frente a las pruebas. "
   ]
  },
  {
   "cell_type": "code",
   "execution_count": 71,
   "id": "242ba1cc",
   "metadata": {},
   "outputs": [],
   "source": [
    "import keras\n",
    "transformer = keras.models.load_model('modeloEspañolQuechua.h5',custom_objects={'PositionalEmbedding': PositionalEmbedding,'TransformerEncoder': TransformerEncoder,'TransformerDecoder':TransformerDecoder})"
   ]
  },
  {
   "cell_type": "code",
   "execution_count": null,
   "id": "7feb01b1",
   "metadata": {},
   "outputs": [],
   "source": []
  }
 ],
 "metadata": {
  "kernelspec": {
   "display_name": "Python 3 (ipykernel)",
   "language": "python",
   "name": "python3"
  },
  "language_info": {
   "codemirror_mode": {
    "name": "ipython",
    "version": 3
   },
   "file_extension": ".py",
   "mimetype": "text/x-python",
   "name": "python",
   "nbconvert_exporter": "python",
   "pygments_lexer": "ipython3",
   "version": "3.9.13"
  }
 },
 "nbformat": 4,
 "nbformat_minor": 5
}
